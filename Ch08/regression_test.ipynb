{
 "cells": [
  {
   "cell_type": "markdown",
   "metadata": {},
   "source": [
    "# 线性回归"
   ]
  },
  {
   "cell_type": "code",
   "execution_count": 286,
   "metadata": {},
   "outputs": [],
   "source": [
    "import numpy as np"
   ]
  },
  {
   "cell_type": "code",
   "execution_count": 7,
   "metadata": {},
   "outputs": [],
   "source": [
    "def loadDataSet(filename):\n",
    "    dataMat = []; labelMat = []\n",
    "    with open(filename) as fr:\n",
    "        numFeat = len(fr.readline().strip().split('\\t')) - 1\n",
    "    with open(filename) as fr:\n",
    "        for line in fr.readlines():\n",
    "            lineArr = [];\n",
    "            curLine = line.strip().split('\\t')\n",
    "#             fltLine = map(float, curLine)\n",
    "#             dataMat.append(fltLine)\n",
    "#             labelMat.append(fltLine[-1])  # map处理后的数据不能用[-1]索引\n",
    "            for i in range(numFeat):\n",
    "                lineArr.append(float(curLine[i]))\n",
    "            dataMat.append(lineArr)  # 前两列是自变量\n",
    "            labelMat.append(float(curLine[-1]))  # 第三列数据是因变量\n",
    "        return dataMat, labelMat"
   ]
  },
  {
   "cell_type": "code",
   "execution_count": 391,
   "metadata": {},
   "outputs": [],
   "source": [
    "xArr, yArr = loadDataSet('ex0.txt')"
   ]
  },
  {
   "cell_type": "code",
   "execution_count": 122,
   "metadata": {
    "scrolled": false
   },
   "outputs": [],
   "source": [
    "def standRegres(xArr, yArr):\n",
    "    xMat = np.mat(xArr); yMat = np.mat(yArr).T\n",
    "#     print(xMat.shape); print(yMat.shape)\n",
    "    xTx = xMat.T*xMat\n",
    "    if np.linalg.det(xTx) == 0.0: # 判断行列式值是否为0\n",
    "        print(\"This matrix is singular, cannot do inverse.\")\n",
    "        return\n",
    "    else:\n",
    "        ws = xTx.I*(xMat.T*yMat)\n",
    "        return ws"
   ]
  },
  {
   "cell_type": "code",
   "execution_count": 217,
   "metadata": {},
   "outputs": [
    {
     "name": "stdout",
     "output_type": "stream",
     "text": [
      "[[3.00774324]\n",
      " [1.69532264]]\n"
     ]
    }
   ],
   "source": [
    "ws = standRegres(xArr, yArr)\n",
    "print(ws)"
   ]
  },
  {
   "cell_type": "code",
   "execution_count": 218,
   "metadata": {},
   "outputs": [],
   "source": [
    "xMat = np.mat(xArr)\n",
    "yMat = np.mat(yArr)\n",
    "yhat = xMat*ws"
   ]
  },
  {
   "cell_type": "code",
   "execution_count": 219,
   "metadata": {
    "scrolled": true
   },
   "outputs": [
    {
     "data": {
      "image/png": "[encoded data removed]",
      "text/plain": [
       "<Figure size 432x288 with 1 Axes>"
      ]
     },
     "metadata": {
      "needs_background": "light"
     },
     "output_type": "display_data"
    }
   ],
   "source": [
    "import matplotlib.pyplot as plt\n",
    "fig = plt.figure()\n",
    "ax = fig.add_subplot(1,1,1)\n",
    "# 散点图，\n",
    "# 通过flatten.A[0]将矩阵转换为数组,scatter仅接受数组输入\n",
    "ax.scatter(xMat[:,1].flatten().A[0], yMat.T[:,0].flatten().A[0])\n",
    "\n",
    "# Numpy matrices必须是2维的,但是numpy arrays(ndarrays)可以是多维的,\n",
    "# Matrix是Array的一个小的分支，包含于Array。所以matrix 拥有array的所有特性。\n",
    "\n",
    "# 直线图\n",
    "xCopy = xMat.copy()\n",
    "xCopy.sort(0)\n",
    "yHat = xCopy*ws\n",
    "ax.plot(xCopy[:,1], yHat)\n",
    "plt.show()"
   ]
  },
  {
   "cell_type": "code",
   "execution_count": 220,
   "metadata": {},
   "outputs": [],
   "source": [
    "yMat = np.mat(yArr)"
   ]
  },
  {
   "cell_type": "code",
   "execution_count": 223,
   "metadata": {},
   "outputs": [],
   "source": [
    "yHat = xMat*ws"
   ]
  },
  {
   "cell_type": "code",
   "execution_count": 224,
   "metadata": {},
   "outputs": [
    {
     "data": {
      "text/plain": [
       "array([[1.        , 0.98647356],\n",
       "       [0.98647356, 1.        ]])"
      ]
     },
     "execution_count": 224,
     "metadata": {},
     "output_type": "execute_result"
    }
   ],
   "source": [
    "np.corrcoef(yHat.T, yMat)"
   ]
  },
  {
   "cell_type": "markdown",
   "metadata": {},
   "source": [
    "## flatten().A[0]"
   ]
  },
  {
   "cell_type": "code",
   "execution_count": 178,
   "metadata": {
    "scrolled": true
   },
   "outputs": [
    {
     "name": "stdout",
     "output_type": "stream",
     "text": [
      "[[1 3]\n",
      " [2 4]\n",
      " [3 5]]\n"
     ]
    }
   ],
   "source": [
    "a = [[1,3], [2,4], [3,5]]\n",
    "a = np.mat(a)\n",
    "print(a)"
   ]
  },
  {
   "cell_type": "code",
   "execution_count": 179,
   "metadata": {},
   "outputs": [
    {
     "data": {
      "text/plain": [
       "matrix([[1, 3, 2, 4, 3, 5]])"
      ]
     },
     "execution_count": 179,
     "metadata": {},
     "output_type": "execute_result"
    }
   ],
   "source": [
    "# 降维\n",
    "a.flatten()"
   ]
  },
  {
   "cell_type": "code",
   "execution_count": 180,
   "metadata": {},
   "outputs": [
    {
     "data": {
      "text/plain": [
       "array([[1, 3, 2, 4, 3, 5]])"
      ]
     },
     "execution_count": 180,
     "metadata": {},
     "output_type": "execute_result"
    }
   ],
   "source": [
    "# 转换为数组\n",
    "a.flatten().A"
   ]
  },
  {
   "cell_type": "code",
   "execution_count": 181,
   "metadata": {},
   "outputs": [
    {
     "data": {
      "text/plain": [
       "array([1, 3, 2, 4, 3, 5])"
      ]
     },
     "execution_count": 181,
     "metadata": {},
     "output_type": "execute_result"
    }
   ],
   "source": [
    "# 获取第一行\n",
    "a.flatten().A[0]"
   ]
  },
  {
   "cell_type": "markdown",
   "metadata": {},
   "source": [
    "# 局部加权线性回归"
   ]
  },
  {
   "cell_type": "code",
   "execution_count": 254,
   "metadata": {},
   "outputs": [],
   "source": [
    "# 利用局部加权，预测一个自变量的因变量\n",
    "def lwlr(testPoint,xArr,yArr,k=1.0):\n",
    "    xMat = np.mat(xArr); yMat = np.mat(yArr).T\n",
    "    m = np.shape(xMat)[0]\n",
    "    weights = np.mat(np.eye((m)))\n",
    "    for j in range(m):                      #next 2 lines create weights matrix\n",
    "        diffMat = testPoint - xMat[j,:]     #\n",
    "        weights[j,j] = np.exp(diffMat*diffMat.T/(-2.0*k**2))\n",
    "    xTx = xMat.T * (weights * xMat)\n",
    "    if np.linalg.det(xTx) == 0.0:\n",
    "        print(\"This matrix is singular, cannot do inverse\")\n",
    "        return\n",
    "    ws = xTx.I * (xMat.T * (weights * yMat))\n",
    "    return testPoint * ws"
   ]
  },
  {
   "cell_type": "code",
   "execution_count": 381,
   "metadata": {},
   "outputs": [],
   "source": [
    "def lwlrTest(testArr,xArr,yArr,k=1.0):  #loops over all the data points and applies lwlr to each one\n",
    "    m = np.shape(testArr)[0]\n",
    "    yHat = np.zeros(m)\n",
    "    for i in range(m):\n",
    "        yHat[i] = lwlr(testArr[i],xArr,yArr,k)\n",
    "    return yHat"
   ]
  },
  {
   "cell_type": "code",
   "execution_count": 280,
   "metadata": {},
   "outputs": [],
   "source": [
    "def lwlrTestPlot(xArr,yArr,k=1.0):  #same thing as lwlrTest except it sorts X first\n",
    "    yHat = np.zeros(np.shape(yArr))       #easier for plotting\n",
    "    xCopy = np.mat(xArr)\n",
    "    xCopy.sort(0)\n",
    "    for i in range(np.shape(xArr)[0]):\n",
    "        yHat[i] = lwlr(xCopy[i],xArr,yArr,k)\n",
    "    return yHat,xCopy"
   ]
  },
  {
   "cell_type": "code",
   "execution_count": 257,
   "metadata": {},
   "outputs": [
    {
     "data": {
      "text/plain": [
       "3.176513"
      ]
     },
     "execution_count": 257,
     "metadata": {},
     "output_type": "execute_result"
    }
   ],
   "source": [
    "xArr,yArr = loadDataSet('ex0.txt')\n",
    "yArr[0]"
   ]
  },
  {
   "cell_type": "code",
   "execution_count": 258,
   "metadata": {},
   "outputs": [
    {
     "data": {
      "text/plain": [
       "matrix([[3.12204471]])"
      ]
     },
     "execution_count": 258,
     "metadata": {},
     "output_type": "execute_result"
    }
   ],
   "source": [
    "lwlr(xArr[0],xArr,yArr,1.0)"
   ]
  },
  {
   "cell_type": "code",
   "execution_count": 260,
   "metadata": {},
   "outputs": [
    {
     "data": {
      "text/plain": [
       "matrix([[3.20175729]])"
      ]
     },
     "execution_count": 260,
     "metadata": {},
     "output_type": "execute_result"
    }
   ],
   "source": [
    "lwlr(xArr[0],xArr,yArr,0.001)"
   ]
  },
  {
   "cell_type": "code",
   "execution_count": 261,
   "metadata": {},
   "outputs": [],
   "source": [
    "yHat = lwlrTest(xArr, xArr, yArr, 0.003)"
   ]
  },
  {
   "cell_type": "code",
   "execution_count": 274,
   "metadata": {},
   "outputs": [],
   "source": [
    "xMat = np.mat(xArr)\n",
    "srtInd = xMat[:,1].argsort(0)\n",
    "xSort = xMat[srtInd][:,0,:]"
   ]
  },
  {
   "cell_type": "code",
   "execution_count": 271,
   "metadata": {},
   "outputs": [
    {
     "data": {
      "image/png": "[encoded data removed]",
      "text/plain": [
       "<Figure size 432x288 with 1 Axes>"
      ]
     },
     "metadata": {
      "needs_background": "light"
     },
     "output_type": "display_data"
    }
   ],
   "source": [
    "fig = plt.figure()\n",
    "ax = fig.add_subplot(1,1,1)\n",
    "ax.plot(xSort[:,1], yHat[srtInd])\n",
    "ax.scatter(xMat[:,1].flatten().A[0],\n",
    "           np.mat(yArr).T.flatten().A[0],s=2,c='red')\n",
    "plt.show()"
   ]
  },
  {
   "cell_type": "markdown",
   "metadata": {},
   "source": [
    "## argsort()"
   ]
  },
  {
   "cell_type": "code",
   "execution_count": 266,
   "metadata": {},
   "outputs": [
    {
     "data": {
      "text/plain": [
       "array([1, 2, 0])"
      ]
     },
     "execution_count": 266,
     "metadata": {},
     "output_type": "execute_result"
    }
   ],
   "source": [
    "# argsort()函数返回的是数组值从小到大的索引值\n",
    "x = np.array([3, 1, 2])\n",
    "np.argsort(x)"
   ]
  },
  {
   "cell_type": "code",
   "execution_count": 336,
   "metadata": {
    "scrolled": true
   },
   "outputs": [
    {
     "data": {
      "text/plain": [
       "array([[0, 3],\n",
       "       [2, 2]])"
      ]
     },
     "execution_count": 336,
     "metadata": {},
     "output_type": "execute_result"
    }
   ],
   "source": [
    "x = np.array([[0, 3], [2, 2]])\n",
    "x"
   ]
  },
  {
   "cell_type": "code",
   "execution_count": 337,
   "metadata": {},
   "outputs": [
    {
     "data": {
      "text/plain": [
       "array([[0, 1],\n",
       "       [1, 0]])"
      ]
     },
     "execution_count": 337,
     "metadata": {},
     "output_type": "execute_result"
    }
   ],
   "source": [
    "ind = np.argsort(x, axis=0)  # sorts along first axis (down)\n",
    "ind"
   ]
  },
  {
   "cell_type": "code",
   "execution_count": 339,
   "metadata": {},
   "outputs": [
    {
     "data": {
      "text/plain": [
       "array([[0, 1],\n",
       "       [0, 1]])"
      ]
     },
     "execution_count": 339,
     "metadata": {},
     "output_type": "execute_result"
    }
   ],
   "source": [
    "ind = np.argsort(x, axis=1)  # sorts along last axis (across)\n",
    "ind"
   ]
  },
  {
   "cell_type": "markdown",
   "metadata": {},
   "source": [
    "## 再来一遍"
   ]
  },
  {
   "cell_type": "code",
   "execution_count": 351,
   "metadata": {},
   "outputs": [],
   "source": [
    "import matplotlib.pyplot as plt"
   ]
  },
  {
   "cell_type": "code",
   "execution_count": 307,
   "metadata": {},
   "outputs": [],
   "source": [
    "# 对待预测点附近的每个点赋予一定权重，对样本点进行预测\n",
    "# weights是仅对角线上元素非0的方阵，用来给没个数据点赋予权重\n",
    "def lwlr(testpoint, xArr, yArr, k=1.0):\n",
    "    xMat = np.mat(xArr); yMat = np.mat(yArr).T\n",
    "    m = xMat.shape[0]\n",
    "    weights = np.mat(np.eye((m)))\n",
    "    for i in range(m):\n",
    "        diffMat = testpoint - xMat[i, :]\n",
    "        weights[i, i] = np.exp(diffMat*diffMat.T/(-2*k**2))\n",
    "    xTx = xMat.T*(weights*xMat)\n",
    "    if np.linalg.det(xTx) == 0:\n",
    "        print(\"This matrix is singular, cannot do invers.\")\n",
    "        return \n",
    "    ws = xTx.I*(xMat.T*(weights*yMat))\n",
    "    return testpoint*ws"
   ]
  },
  {
   "cell_type": "code",
   "execution_count": 376,
   "metadata": {},
   "outputs": [],
   "source": [
    "# 对数据集进行预测\n",
    "# lwlr与lwlr_test两个函数拆开主要是为了方便确定k值\n",
    "def lwlr_test(testArr, xArr, yArr, k=1.0):\n",
    "    m = np.shape(testArr)[0]\n",
    "    yHat = np.zeros(m)\n",
    "    for i in range(m):\n",
    "        yHat[i] = lwlr(testArr[i], xArr, yArr, k)\n",
    "    return yHat"
   ]
  },
  {
   "cell_type": "code",
   "execution_count": 309,
   "metadata": {},
   "outputs": [],
   "source": [
    "xArr,yArr = loadDataSet('ex0.txt')"
   ]
  },
  {
   "cell_type": "code",
   "execution_count": 310,
   "metadata": {
    "scrolled": true
   },
   "outputs": [
    {
     "data": {
      "text/plain": [
       "matrix([[3.12204471]])"
      ]
     },
     "execution_count": 310,
     "metadata": {},
     "output_type": "execute_result"
    }
   ],
   "source": [
    "lwlr(xArr[0],xArr,yArr,1.0)"
   ]
  },
  {
   "cell_type": "code",
   "execution_count": 311,
   "metadata": {},
   "outputs": [
    {
     "data": {
      "text/plain": [
       "matrix([[3.20175729]])"
      ]
     },
     "execution_count": 311,
     "metadata": {},
     "output_type": "execute_result"
    }
   ],
   "source": [
    "lwlr(xArr[0],xArr,yArr,0.001)"
   ]
  },
  {
   "cell_type": "code",
   "execution_count": 320,
   "metadata": {
    "scrolled": true
   },
   "outputs": [],
   "source": [
    "yHat = lwlr_test(xArr,xArr,yArr,0.003)"
   ]
  },
  {
   "cell_type": "code",
   "execution_count": 321,
   "metadata": {},
   "outputs": [],
   "source": [
    "xMat = np.mat(xArr)"
   ]
  },
  {
   "cell_type": "code",
   "execution_count": 350,
   "metadata": {},
   "outputs": [],
   "source": [
    "srtInd = xMat[:,1].argsort(0)\n",
    "xSort = xMat[srtInd][:,0,:]"
   ]
  },
  {
   "cell_type": "code",
   "execution_count": 352,
   "metadata": {},
   "outputs": [
    {
     "data": {
      "text/plain": [
       "<matplotlib.collections.PathCollection at 0x115b8b310>"
      ]
     },
     "execution_count": 352,
     "metadata": {},
     "output_type": "execute_result"
    },
    {
     "data": {
      "image/png": "[encoded data removed]",
      "text/plain": [
       "<Figure size 432x288 with 1 Axes>"
      ]
     },
     "metadata": {
      "needs_background": "light"
     },
     "output_type": "display_data"
    }
   ],
   "source": [
    "fig = plt.figure()\n",
    "ax = fig.add_subplot(1,1,1)\n",
    "ax.plot(xSort[:,1],yHat[srtInd])\n",
    "ax.scatter(xMat[:,1].flatten().A[0], np.mat(yArr).T.flatten().A[0], s=2, c='red')"
   ]
  },
  {
   "cell_type": "markdown",
   "metadata": {},
   "source": [
    "## 预测鲍鱼年龄"
   ]
  },
  {
   "cell_type": "code",
   "execution_count": 65,
   "metadata": {},
   "outputs": [],
   "source": [
    "def rssError(yArr,yHatArr):\n",
    "    return ((yArr-yHatArr)**2).sum()"
   ]
  },
  {
   "cell_type": "code",
   "execution_count": 394,
   "metadata": {},
   "outputs": [],
   "source": [
    "abX,abY=loadDataSet('abalone.txt')"
   ]
  },
  {
   "cell_type": "markdown",
   "metadata": {},
   "source": [
    "对比不同k值对预测值的影响，目前数据可以看出较小的k值将得到较低的误差。"
   ]
  },
  {
   "cell_type": "code",
   "execution_count": 395,
   "metadata": {},
   "outputs": [],
   "source": [
    "yHat01 = lwlrTest(abX[0:99], abX[0:99], abY[0:99], 0.1)"
   ]
  },
  {
   "cell_type": "code",
   "execution_count": 396,
   "metadata": {},
   "outputs": [],
   "source": [
    "yHat1 = lwlr_test(abX[:99], abX[:99], abY[:99], 1)"
   ]
  },
  {
   "cell_type": "code",
   "execution_count": 397,
   "metadata": {},
   "outputs": [],
   "source": [
    "yHat10 = lwlr_test(abX[:99], abX[:99], abY[:99], 10)"
   ]
  },
  {
   "cell_type": "code",
   "execution_count": 398,
   "metadata": {
    "scrolled": true
   },
   "outputs": [
    {
     "data": {
      "text/plain": [
       "56.78420911837319"
      ]
     },
     "execution_count": 398,
     "metadata": {},
     "output_type": "execute_result"
    }
   ],
   "source": [
    "rssError(abY[0:99],yHat01.T)"
   ]
  },
  {
   "cell_type": "code",
   "execution_count": 399,
   "metadata": {},
   "outputs": [
    {
     "data": {
      "text/plain": [
       "429.8905618703138"
      ]
     },
     "execution_count": 399,
     "metadata": {},
     "output_type": "execute_result"
    }
   ],
   "source": [
    "rssError(abY[:99],yHat1.T)"
   ]
  },
  {
   "cell_type": "code",
   "execution_count": 400,
   "metadata": {
    "scrolled": true
   },
   "outputs": [
    {
     "data": {
      "text/plain": [
       "549.1181708827038"
      ]
     },
     "execution_count": 400,
     "metadata": {},
     "output_type": "execute_result"
    }
   ],
   "source": [
    "rssError(abY[:99],yHat10.T)"
   ]
  },
  {
   "cell_type": "markdown",
   "metadata": {},
   "source": [
    "最小的k值并没有在新数据中取得最好的效果，k=10时测试误差最小（下方代码），但在训练集上误差却最大（上方代码）。"
   ]
  },
  {
   "cell_type": "code",
   "execution_count": 401,
   "metadata": {},
   "outputs": [],
   "source": [
    "yHat01 = lwlrTest(abX[100:199], abX[0:99], abY[0:99], 0.1)"
   ]
  },
  {
   "cell_type": "code",
   "execution_count": 402,
   "metadata": {},
   "outputs": [],
   "source": [
    "yHat1 = lwlr_test(abX[100:199], abX[:99], abY[:99], 1)"
   ]
  },
  {
   "cell_type": "code",
   "execution_count": 403,
   "metadata": {},
   "outputs": [],
   "source": [
    "yHat10 = lwlr_test(abX[100:199], abX[:99], abY[:99], 10)"
   ]
  },
  {
   "cell_type": "code",
   "execution_count": 404,
   "metadata": {},
   "outputs": [
    {
     "data": {
      "text/plain": [
       "25119.417511792763"
      ]
     },
     "execution_count": 404,
     "metadata": {},
     "output_type": "execute_result"
    }
   ],
   "source": [
    "rssError(abY[100:199],yHat01.T)"
   ]
  },
  {
   "cell_type": "code",
   "execution_count": 405,
   "metadata": {},
   "outputs": [
    {
     "data": {
      "text/plain": [
       "573.5261441897468"
      ]
     },
     "execution_count": 405,
     "metadata": {},
     "output_type": "execute_result"
    }
   ],
   "source": [
    "rssError(abY[100:199],yHat1.T)"
   ]
  },
  {
   "cell_type": "code",
   "execution_count": 406,
   "metadata": {
    "scrolled": true
   },
   "outputs": [
    {
     "data": {
      "text/plain": [
       "517.571190538318"
      ]
     },
     "execution_count": 406,
     "metadata": {},
     "output_type": "execute_result"
    }
   ],
   "source": [
    "rssError(abY[100:199],yHat10.T)"
   ]
  },
  {
   "cell_type": "markdown",
   "metadata": {},
   "source": [
    "# 缩减系数"
   ]
  },
  {
   "cell_type": "markdown",
   "metadata": {},
   "source": [
    "## 岭回归"
   ]
  },
  {
   "cell_type": "markdown",
   "metadata": {},
   "source": [
    "+ 当数据的特征比样本点还多时，即矩阵不是满秩矩阵时，前面的方法计算(X<sup>T</sup>X)<sup>-1</sup>时会出错，为解决这个问题，统计学家引入了岭回归的概念。\n",
    "+ 现在岭回归也用于在估计中加入偏差，$\\color{#FF0000}{通过𝞴来限制所有W之和}$，通过引入该惩罚项，减少不重要的参数，这项技术在统计学中也叫做缩减。缩减方法可以去掉不重要的参数，因此能更好的理解数据，与简单回归相比，有更好的预测效果。"
   ]
  },
  {
   "cell_type": "markdown",
   "metadata": {},
   "source": [
    "岭回归就是在矩阵X<sup>T</sup>X上加一个𝞴I使得矩阵非奇异，进而对X<sup>T</sup>X + 𝞴I求逆  \n",
    "回归系数的计算公式变成：$\\hat{w}$ = (X<sup>T</sup>X + 𝞴I)<sup>-1</sup>X<sup>T</sup>*Y"
   ]
  },
  {
   "cell_type": "code",
   "execution_count": 11,
   "metadata": {},
   "outputs": [],
   "source": [
    "import pandas as pd\n",
    "import numpy as np\n",
    "import matplotlib.pyplot as plt"
   ]
  },
  {
   "cell_type": "code",
   "execution_count": 3,
   "metadata": {},
   "outputs": [],
   "source": [
    "# 计算岭回归的回归系数\n",
    "def ridgeRegres(xMat, yMat, lam=0.2):\n",
    "    xTx = xMat.T*xMat\n",
    "    denom = xTx + np.eye(xMat.shape[1])*lam\n",
    "    if np.linalg.det(denom) == 0:\n",
    "        print('This matrix is singular, cannot do inverse.')\n",
    "        return\n",
    "    ws = denom.I * (xMat.T*yMat)\n",
    "    return ws"
   ]
  },
  {
   "cell_type": "code",
   "execution_count": 8,
   "metadata": {},
   "outputs": [],
   "source": [
    "# 在一组𝞴上测试结果\n",
    "# 为了使用岭回归和缩减技术，首先需要对特征做标准化处理。（将所有特征值都减去各自均值并处以方差。）\n",
    "def ridgeTest(xMat, yMat):\n",
    "    xMat = np.mat(xMat); yMat = np.mat(yMat).T\n",
    "    # 对xMat, yMat做标准化处理\n",
    "    yMean = np.mean(yMat, 0)\n",
    "    yMat = yMat - yMean\n",
    "    xMeans = np.mean(xMat, 0)\n",
    "    xVar = np.var(xMat, 0)\n",
    "    xMat = (xMat - xMeans)/xVar\n",
    "    numTestPts = 30\n",
    "    wMat = np.zeros([numTestPts, np.shape(xMat)[1]])\n",
    "    for i in range(numTestPts):\n",
    "        ws = ridgeRegres(xMat, yMat, np.exp(i-10))\n",
    "        wMat[i,:] = ws.T\n",
    "    return wMat"
   ]
  },
  {
   "cell_type": "code",
   "execution_count": 9,
   "metadata": {
    "scrolled": true
   },
   "outputs": [],
   "source": [
    "abX,abY = loadDataSet('abalone.txt')"
   ]
  },
  {
   "cell_type": "code",
   "execution_count": 242,
   "metadata": {},
   "outputs": [],
   "source": [
    "ridgeWeights = ridgeTest(abX, abY)\n",
    "# ridgeWeights"
   ]
  },
  {
   "cell_type": "code",
   "execution_count": 51,
   "metadata": {},
   "outputs": [
    {
     "data": {
      "image/png": "[encoded data removed]",
      "text/plain": [
       "<Figure size 432x288 with 1 Axes>"
      ]
     },
     "metadata": {
      "needs_background": "light"
     },
     "output_type": "display_data"
    }
   ],
   "source": [
    "# 据说这图绘出了回归系数与log(𝞴)\n",
    "# 每条线对应ridgeWeights数据集中的一列，ridgeWeights数据集中的每一行对应不同𝞴值对应的回归系数\n",
    "fig = plt.figure()\n",
    "ax = fig.add_subplot(1,1,1)\n",
    "ax.plot(ridgeWeights)\n",
    "plt.show()"
   ]
  },
  {
   "cell_type": "markdown",
   "metadata": {},
   "source": [
    "## lasso"
   ]
  },
  {
   "cell_type": "markdown",
   "metadata": {},
   "source": [
    "当两个或更多的特征相关时，使用最小二乘法会得到一个很大的正系数和一个很大的负系数。岭回归通过限制回归系数平方和不能大于  𝞴避免了这个问题。\n",
    "$$\\sum_{k=1}^nw^2 <= 𝞴$$ "
   ]
  },
  {
   "cell_type": "markdown",
   "metadata": {},
   "source": [
    "$\\color{#FF0000}{缩减法lasso对回归系数做了限定}$  \n",
    "$$\\sum_{k=1}^n|w_k| <= 𝞴$$ "
   ]
  },
  {
   "cell_type": "markdown",
   "metadata": {},
   "source": [
    "## 前向逐步回归"
   ]
  },
  {
   "cell_type": "code",
   "execution_count": 116,
   "metadata": {},
   "outputs": [],
   "source": [
    "xArr, yArr = loadDataSet('abalone.txt')"
   ]
  },
  {
   "cell_type": "code",
   "execution_count": 60,
   "metadata": {},
   "outputs": [],
   "source": [
    "def regularize(xMat):\n",
    "    xMean = np.mean(xMat,0)\n",
    "    xVar = np.var(xMat,0)\n",
    "    inMat = (xMat - xMean)/xVar\n",
    "    return inMat"
   ]
  },
  {
   "cell_type": "code",
   "execution_count": 120,
   "metadata": {},
   "outputs": [],
   "source": [
    "# 复现\n",
    "def stageWise1(xArr, yArr, eps=0.01, numIt=100):\n",
    "    xMat = np.mat(xArr); yMat = np.mat(yArr).T\n",
    "    yMean = np.mean(yArr,0)\n",
    "    yMat = yMat - yMean\n",
    "    xMat = regularize(xMat)\n",
    "    m,n = np.shape(xMat)\n",
    "    lowestError = np.inf # 书上的代码lowestError的赋值写在循环里面，最后的结果一致\n",
    "    ws = np.zeros([n,1]); wsMax = ws.copy()\n",
    "    for i in range(numIt):\n",
    "        for j in range(n):\n",
    "            for sign in [-1,1]:\n",
    "                wsTest = ws.copy() \n",
    "#                 print('wsTest'); print(wsTest); print('wsMax'); print(wsMax)\n",
    "                wsTest[j] = wsTest[j] + sign*eps\n",
    "                yTest = xMat*wsTest\n",
    "                rssE = rssError(yMat.A, yTest.A)\n",
    "#                 print('lowestError'); print(lowestError)\n",
    "                if rssE < lowestError:\n",
    "                    lowestError = rssE\n",
    "                    wsMax = wsTest\n",
    "        ws = wsMax\n",
    "    return ws"
   ]
  },
  {
   "cell_type": "code",
   "execution_count": 110,
   "metadata": {},
   "outputs": [],
   "source": [
    "def stageWise(xArr,yArr,eps=0.01,numIt=100):\n",
    "    xMat = np.mat(xArr); yMat=np.mat(yArr).T\n",
    "    yMean = np.mean(yMat,0)\n",
    "    yMat = yMat - yMean     #can also regularize ys but will sget smaller coef\n",
    "    xMat = regularize(xMat)\n",
    "    m,n=np.shape(xMat)\n",
    "    returnMat = np.zeros((numIt,n)) #testing code remove\n",
    "    ws = np.zeros((n,1)); wsTest = ws.copy(); wsMax = ws.copy()\n",
    "    for i in range(numIt):\n",
    "#         print(ws.T)\n",
    "        lowestError = np.inf; \n",
    "        for j in range(n):\n",
    "            for sign in [-1,1]:\n",
    "                wsTest = ws.copy()\n",
    "                wsTest[j] += eps*sign\n",
    "#                 print(j); print('wsTest'); print(wsTest)\n",
    "                yTest = xMat*wsTest\n",
    "                rssE = rssError(yMat.A,yTest.A)\n",
    "#                 print('rssE'); print(rssE)\n",
    "                if rssE < lowestError:\n",
    "                    lowestError = rssE\n",
    "                    wsMax = wsTest\n",
    "#                     print('wsMax'); print(wsMax)\n",
    "        ws = wsMax.copy()\n",
    "        print('ws'); print(ws)\n",
    "        returnMat[i,:]=ws.T # 可观测到外层循环每次返回的ws的值\n",
    "    return returnMat"
   ]
  },
  {
   "cell_type": "code",
   "execution_count": 127,
   "metadata": {
    "scrolled": true
   },
   "outputs": [
    {
     "data": {
      "text/plain": [
       "array([[ 0.043],\n",
       "       [-0.01 ],\n",
       "       [ 0.119],\n",
       "       [ 0.022],\n",
       "       [ 2.004],\n",
       "       [-0.959],\n",
       "       [-0.104],\n",
       "       [ 0.189]])"
      ]
     },
     "execution_count": 127,
     "metadata": {},
     "output_type": "execute_result"
    }
   ],
   "source": [
    "stageWise1(xArr, yArr, 0.001, 5000)"
   ]
  },
  {
   "cell_type": "code",
   "execution_count": 125,
   "metadata": {},
   "outputs": [
    {
     "data": {
      "text/plain": [
       "matrix([[ 0.0430442 , -0.02274163,  0.13214087,  0.02075182,  2.22403814,\n",
       "         -0.99895312, -0.11725427,  0.16622915]])"
      ]
     },
     "execution_count": 125,
     "metadata": {},
     "output_type": "execute_result"
    }
   ],
   "source": [
    "# 与最小二乘法比较\n",
    "xMat = np.mat(xArr)\n",
    "yMat = np.mat(yArr).T\n",
    "xMat = regularize(xMat)\n",
    "yMean = np.mean(yMat,0)\n",
    "yMat = yMat - yMean\n",
    "weights = standRegres(xMat,yMat.T)\n",
    "weights.T"
   ]
  },
  {
   "cell_type": "markdown",
   "metadata": {},
   "source": [
    "# 预测乐高玩具套装的价格"
   ]
  },
  {
   "cell_type": "markdown",
   "metadata": {},
   "source": [
    "## 收集数据 ：使用Google购物的API"
   ]
  },
  {
   "cell_type": "code",
   "execution_count": 166,
   "metadata": {},
   "outputs": [],
   "source": [
    "from bs4 import BeautifulSoup\n",
    "\n",
    "# 从页面读取数据\n",
    "def scrapePage(retX, retY, inFile, yr, numPce, origPrc):\n",
    "    \"\"\"\"\"\n",
    "    Parameters:\n",
    "        reX - 数据x\n",
    "        retY - 数据y\n",
    "        inFile - HTML文件\n",
    "        yr - 年份\n",
    "        numPce - 乐高部件数目\n",
    "        origPrc - 原价\n",
    "    Returns:\n",
    "        无\n",
    "    \"\"\"\n",
    "    # 打开并读取HTML文件\n",
    "    with open(inFile, encoding = 'utf-8') as f:\n",
    "        html = f.read()\n",
    "        soup = BeautifulSoup(html)\n",
    "    i = 1\n",
    "    # 根据HTML页面结构进行解析\n",
    "    currentRow = soup.find_all('table', r='%d' % i)\n",
    "    while (len(currentRow) != 0):\n",
    "#         currentRow = soup.find_all('table', r='%d' % i)\n",
    "        title = currentRow[0].find_all('a')[1].text\n",
    "        lwrTitle = title.lower()\n",
    "        # 查找是否有全新标签\n",
    "        if (lwrTitle.find('new') > -1) or (lwrTitle.find('nisb') > -1):\n",
    "            newFlag = 1.0\n",
    "        else:\n",
    "            newFlag = 0.0\n",
    "        # 查找是否已经出售，我们只收集出售数据\n",
    "        soldUnicde = currentRow[0].find_all('td')[3].find_all('span')\n",
    "        if len(soldUnicde) == 0:\n",
    "            print(\"商品 #%d 没有出售\" % i)\n",
    "        else:\n",
    "            # 解析页面获取当前价格\n",
    "            soldPrice = currentRow[0].find_all('td')[4]\n",
    "            priceStr = soldPrice.text\n",
    "            priceStr = priceStr.replace('$', '')\n",
    "            priceStr = priceStr.replace(',', '')\n",
    "            if len(soldPrice) > 1:\n",
    "                priceStr = priceStr.replace('Free shipping', '')\n",
    "            sellingPrice = float(priceStr)\n",
    "            if sellingPrice > origPrc*0.5:\n",
    "                print('%d\\t%d\\t%d\\t%f\\t%f' % (yr, numPce, newFlag, origPrc, sellingPrice))\n",
    "                retX.append([yr, numPce, newFlag, origPrc])\n",
    "                retY.append(sellingPrice)\n",
    "        i = i + 1\n",
    "        currentRow = soup.find_all('table', r='%d' % i)"
   ]
  },
  {
   "cell_type": "code",
   "execution_count": 167,
   "metadata": {},
   "outputs": [],
   "source": [
    "# 依次读取六种乐高套装的数据，并生成数据矩阵\n",
    "def setDataCollect(retX, retY):\n",
    "\t# 2006年的乐高8288,部件数目800,原价49.99\n",
    "    scrapePage(retX, retY, './setHtml/lego8288.html', 2006, 800, 49.99)\n",
    "    # 2002年的乐高10030,部件数目3096,原价269.99\n",
    "    scrapePage(retX, retY, './setHtml/lego10030.html', 2002, 3096, 269.99)\n",
    "    # 2007年的乐高10179,部件数目5195,原价499.99\n",
    "    scrapePage(retX, retY, './setHtml/lego10179.html', 2007, 5195, 499.99)\n",
    "    # 2007年的乐高10181,部件数目3428,原价199.99\n",
    "    scrapePage(retX, retY, './setHtml/lego10181.html', 2007, 3428, 199.99)\n",
    "    # 2008年的乐高10189,部件数目5922,原价299.99\n",
    "    scrapePage(retX, retY, './setHtml/lego10189.html', 2008, 5922, 299.99)\n",
    "    # 2009年的乐高10196,部件数目3263,原价249.99\n",
    "    scrapePage(retX, retY, './setHtml/lego10196.html', 2009, 3263, 249.99)"
   ]
  },
  {
   "cell_type": "code",
   "execution_count": 328,
   "metadata": {},
   "outputs": [],
   "source": [
    "retX = []; retY = []\n",
    "#setDataCollect(retX, retY)"
   ]
  },
  {
   "cell_type": "code",
   "execution_count": 330,
   "metadata": {},
   "outputs": [],
   "source": [
    "# 网上的参考代码\n",
    "\n",
    "from bs4 import BeautifulSoup\n",
    "\n",
    "# 从页面读取数据，生成retX和retY列表\n",
    "def scrapePage(retX, retY, inFile, yr, numPce, origPrc):\n",
    "    \"\"\"\n",
    "    Parameters:\n",
    "        retX - 数据X\n",
    "        retY - 数据Y\n",
    "        inFile - HTML文件\n",
    "        yr - 年份\n",
    "        numPce - 乐高部件数目\n",
    "        origPrc - 原价\n",
    "    Returns:\n",
    "        无\n",
    "    \"\"\"\n",
    "    # 打开并读取HTML文件\n",
    "    with open(inFile, encoding='utf-8') as f:\n",
    "        html = f.read()\n",
    "    soup = BeautifulSoup(html)\n",
    "    i = 1\n",
    "    # 根据HTML页面结构进行解析\n",
    "    currentRow = soup.find_all('table', r=\"%d\" % i)\n",
    "    while (len(currentRow) != 0):\n",
    "        currentRow = soup.find_all('table', r=\"%d\" % i)\n",
    "        title = currentRow[0].find_all('a')[1].text\n",
    "        lwrTitle = title.lower()\n",
    "        # 查找是否有全新标签\n",
    "        if (lwrTitle.find('new') > -1) or (lwrTitle.find('nisb') > -1):\n",
    "            newFlag = 1.0\n",
    "        else:\n",
    "            newFlag = 0.0\n",
    "        # 查找是否已经标志出售，我们只收集已出售的数据\n",
    "        soldUnicde = currentRow[0].find_all('td')[3].find_all('span')\n",
    "        if len(soldUnicde) == 0:\n",
    "            print(\"商品 #%d 没有出售\" % i)\n",
    "        else:\n",
    "            # 解析页面获取当前价格\n",
    "            soldPrice = currentRow[0].find_all('td')[4]\n",
    "            priceStr = soldPrice.text\n",
    "            priceStr = priceStr.replace('$', '')\n",
    "            priceStr = priceStr.replace(',', '')\n",
    "            if len(soldPrice) > 1:\n",
    "                priceStr = priceStr.replace('Free shipping', '')\n",
    "            sellingPrice = float(priceStr)\n",
    "            # 去掉不完整的套装价格\n",
    "            if sellingPrice > origPrc * 0.5:\n",
    "                print(\"%d\\t%d\\t%d\\t%f\\t%f\" % (yr, numPce, newFlag, origPrc, sellingPrice))\n",
    "                retX.append([yr, numPce, newFlag, origPrc])\n",
    "                retY.append(sellingPrice)\n",
    "        i += 1\n",
    "        currentRow = soup.find_all('table', r=\"%d\" % i)\n",
    "\n",
    "# 依次读取六种乐高套装的数据，并生成数据矩阵\n",
    "def setDataCollect(retX, retY):\n",
    "\t# 2006年的乐高8288,部件数目800,原价49.99\n",
    "    scrapePage(retX, retY, './setHtml/lego8288.html', 2006, 800, 49.99)\n",
    "    # 2002年的乐高10030,部件数目3096,原价269.99\n",
    "    scrapePage(retX, retY, './setHtml/lego10030.html', 2002, 3096, 269.99)\n",
    "    # 2007年的乐高10179,部件数目5195,原价499.99\n",
    "    scrapePage(retX, retY, './setHtml/lego10179.html', 2007, 5195, 499.99)\n",
    "    # 2007年的乐高10181,部件数目3428,原价199.99\n",
    "    scrapePage(retX, retY, './setHtml/lego10181.html', 2007, 3428, 199.99)\n",
    "    # 2008年的乐高10189,部件数目5922,原价299.99\n",
    "    scrapePage(retX, retY, './setHtml/lego10189.html', 2008, 5922, 299.99)\n",
    "    # 2009年的乐高10196,部件数目3263,原价249.99\n",
    "    scrapePage(retX, retY, './setHtml/lego10196.html', 2009, 3263, 249.99)\n",
    "\n",
    "\n",
    "# if __name__ == '__main__':\n",
    "#     lgX = []\n",
    "#     lgY = []\n",
    "#     setDataCollect(lgX, lgY)\n"
   ]
  },
  {
   "cell_type": "markdown",
   "metadata": {},
   "source": [
    "## 训练算法：简单线性回归"
   ]
  },
  {
   "cell_type": "code",
   "execution_count": 181,
   "metadata": {},
   "outputs": [
    {
     "data": {
      "text/plain": [
       "(63, 4)"
      ]
     },
     "execution_count": 181,
     "metadata": {},
     "output_type": "execute_result"
    }
   ],
   "source": [
    "np.shape(retX)"
   ]
  },
  {
   "cell_type": "code",
   "execution_count": 191,
   "metadata": {},
   "outputs": [],
   "source": [
    "lgX = retX; lgY = retY"
   ]
  },
  {
   "cell_type": "code",
   "execution_count": 195,
   "metadata": {},
   "outputs": [],
   "source": [
    "lgX1 = np.mat(np.ones([63, 5]))"
   ]
  },
  {
   "cell_type": "code",
   "execution_count": 196,
   "metadata": {},
   "outputs": [],
   "source": [
    "lgX1[:, 1:5] = np.mat(lgX)"
   ]
  },
  {
   "cell_type": "code",
   "execution_count": 197,
   "metadata": {},
   "outputs": [
    {
     "data": {
      "text/plain": [
       "[2006, 800, 0.0, 49.99]"
      ]
     },
     "execution_count": 197,
     "metadata": {},
     "output_type": "execute_result"
    }
   ],
   "source": [
    "lgX[0]"
   ]
  },
  {
   "cell_type": "code",
   "execution_count": 198,
   "metadata": {},
   "outputs": [
    {
     "data": {
      "text/plain": [
       "matrix([[1.000e+00, 2.006e+03, 8.000e+02, 0.000e+00, 4.999e+01]])"
      ]
     },
     "execution_count": 198,
     "metadata": {},
     "output_type": "execute_result"
    }
   ],
   "source": [
    "lgX1[0]"
   ]
  },
  {
   "cell_type": "code",
   "execution_count": 199,
   "metadata": {
    "scrolled": true
   },
   "outputs": [
    {
     "data": {
      "text/plain": [
       "matrix([[ 5.53199701e+04],\n",
       "        [-2.75928219e+01],\n",
       "        [-2.68392234e-02],\n",
       "        [-1.12208481e+01],\n",
       "        [ 2.57604055e+00]])"
      ]
     },
     "execution_count": 199,
     "metadata": {},
     "output_type": "execute_result"
    }
   ],
   "source": [
    "ws = standRegres(lgX1, lgY)\n",
    "ws"
   ]
  },
  {
   "cell_type": "markdown",
   "metadata": {},
   "source": [
    "上面的结果并不能令人满意，套装零件数越多价格反而会越低，对新套装也有一定的惩罚。"
   ]
  },
  {
   "cell_type": "markdown",
   "metadata": {},
   "source": [
    "下面数据对比预测数据与真实值"
   ]
  },
  {
   "cell_type": "code",
   "execution_count": 201,
   "metadata": {},
   "outputs": [
    {
     "data": {
      "text/plain": [
       "matrix([[76.07418828]])"
      ]
     },
     "execution_count": 201,
     "metadata": {},
     "output_type": "execute_result"
    }
   ],
   "source": [
    "lgX1[0]*ws"
   ]
  },
  {
   "cell_type": "code",
   "execution_count": 208,
   "metadata": {},
   "outputs": [
    {
     "data": {
      "text/plain": [
       "85.0"
      ]
     },
     "execution_count": 208,
     "metadata": {},
     "output_type": "execute_result"
    }
   ],
   "source": [
    "lgY[0]"
   ]
  },
  {
   "cell_type": "code",
   "execution_count": 202,
   "metadata": {},
   "outputs": [
    {
     "data": {
      "text/plain": [
       "matrix([[431.17797647]])"
      ]
     },
     "execution_count": 202,
     "metadata": {},
     "output_type": "execute_result"
    }
   ],
   "source": [
    "lgX1[-1]*ws"
   ]
  },
  {
   "cell_type": "code",
   "execution_count": 209,
   "metadata": {},
   "outputs": [
    {
     "data": {
      "text/plain": [
       "331.51"
      ]
     },
     "execution_count": 209,
     "metadata": {},
     "output_type": "execute_result"
    }
   ],
   "source": [
    "lgY[-1]"
   ]
  },
  {
   "cell_type": "code",
   "execution_count": 203,
   "metadata": {},
   "outputs": [
    {
     "data": {
      "text/plain": [
       "matrix([[516.2073308]])"
      ]
     },
     "execution_count": 203,
     "metadata": {},
     "output_type": "execute_result"
    }
   ],
   "source": [
    "lgX1[43]*ws"
   ]
  },
  {
   "cell_type": "code",
   "execution_count": 210,
   "metadata": {},
   "outputs": [
    {
     "data": {
      "text/plain": [
       "530.0"
      ]
     },
     "execution_count": 210,
     "metadata": {},
     "output_type": "execute_result"
    }
   ],
   "source": [
    "lgY[43]"
   ]
  },
  {
   "cell_type": "markdown",
   "metadata": {},
   "source": [
    "## 训练算法：岭回归，并用交叉验证测试"
   ]
  },
  {
   "cell_type": "code",
   "execution_count": 223,
   "metadata": {},
   "outputs": [],
   "source": [
    "import random"
   ]
  },
  {
   "cell_type": "code",
   "execution_count": 237,
   "metadata": {
    "scrolled": true
   },
   "outputs": [
    {
     "data": {
      "text/plain": [
       "[0, 1, 2, 3, 4, 5, 6, 7, 8, 9]"
      ]
     },
     "execution_count": 237,
     "metadata": {},
     "output_type": "execute_result"
    }
   ],
   "source": [
    "indexList = list(range(10))\n",
    "indexList"
   ]
  },
  {
   "cell_type": "code",
   "execution_count": 240,
   "metadata": {},
   "outputs": [
    {
     "data": {
      "text/plain": [
       "[1, 4, 0, 9, 7, 5, 8, 3, 6, 2]"
      ]
     },
     "execution_count": 240,
     "metadata": {},
     "output_type": "execute_result"
    }
   ],
   "source": [
    "random.shuffle(indexList)\n",
    "indexList"
   ]
  },
  {
   "cell_type": "code",
   "execution_count": 315,
   "metadata": {},
   "outputs": [],
   "source": [
    "# 网上复制的代码\n",
    "def crossValidation(xArr, yArr, numVal = 10):\n",
    "    \"\"\"\n",
    "    Parameters:\n",
    "        xArr - x数据集\n",
    "        yArr - y数据集\n",
    "        numVal - 交叉验证次数\n",
    "    Returns:\n",
    "        wMat - 回归系数矩阵\n",
    "    \"\"\"\n",
    "    m = len(yArr)                                                   #统计样本个数                       \n",
    "    indexList = list(range(m))                                      #生成索引值列表\n",
    "    errorMat = np.zeros((numVal,30))                                #create error mat 30columns numVal rows\n",
    "    for i in range(numVal):                                         #交叉验证numVal次\n",
    "        trainX = []; trainY = []                                    #训练集\n",
    "        testX = []; testY = []                                      #测试集\n",
    "        random.shuffle(indexList)                                   #打乱次序\n",
    "        for j in range(m):                                          #划分数据集:90%训练集，10%测试集\n",
    "            if j < m * 0.9:\n",
    "                trainX.append(xArr[indexList[j]])\n",
    "                trainY.append(yArr[indexList[j]])\n",
    "            else:\n",
    "                testX.append(xArr[indexList[j]])\n",
    "                testY.append(yArr[indexList[j]])\n",
    "        wMat = ridgeTest(trainX, trainY)                            #获得30个不同lambda下的岭回归系数\n",
    "#         print('i', i, 'wMat:',  wMat)\n",
    "        for k in range(30):                                         #遍历所有的岭回归系数\n",
    "            matTestX = np.mat(testX); matTrainX = np.mat(trainX)    #测试集\n",
    "            meanTrain = np.mean(matTrainX,0)                        #测试集均值\n",
    "            varTrain = np.var(matTrainX,0)                          #测试集方差\n",
    "            matTestX = (matTestX - meanTrain) / varTrain            #测试集标准化\n",
    "            yEst = matTestX * np.mat(wMat[k,:]).T + np.mean(trainY) #根据ws预测y值\n",
    "            errorMat[i, k] = rssError(yEst.T.A, np.array(testY))    #统计误差\n",
    "#             print('i= %d k = %d errorMat:%d' % (i, k, errorMat[i,k]))\n",
    "#     print(errorMat)\n",
    "    meanErrors = np.mean(errorMat,0)                                #计算每次交叉验证的平均误差\n",
    "#     print('errorMat:', errorMat); print('meanErrors:', meanErrors)\n",
    "    minMean = float(min(meanErrors))                                #找到最小误差\n",
    "#     print('minMean', minMean)\n",
    "    bestWeights = wMat[np.nonzero(meanErrors == minMean)]           #找到最佳回归系数\n",
    "    print('wMat', wMat)\n",
    "    print(np.nonzero(meanErrors == minMean))\n",
    "    print(wMat[np.nonzero(meanErrors == minMean)])\n",
    "    xMat = np.mat(xArr); yMat = np.mat(yArr).T\n",
    "    meanX = np.mean(xMat,0); varX = np.var(xMat,0)\n",
    "    unReg = bestWeights / varX                                      #数据经过标准化，因此需要还原\n",
    "    print('%f%+f*年份%+f*部件数量%+f*是否为全新%+f*原价' % ((-1 * np.sum(np.multiply(meanX,unReg)) + np.mean(yMat)), unReg[0,0], unReg[0,1], unReg[0,2], unReg[0,3]))  "
   ]
  },
  {
   "cell_type": "code",
   "execution_count": 277,
   "metadata": {},
   "outputs": [],
   "source": [
    "import random"
   ]
  },
  {
   "cell_type": "code",
   "execution_count": 327,
   "metadata": {},
   "outputs": [],
   "source": [
    "def crossValidation(xArr, yArr, numVal=10):\n",
    "    \"\"\"\"\n",
    "    Parameters:\n",
    "        xArr - x数据集\n",
    "        yArr - y数据集\n",
    "        numVal - 交叉验证次数\n",
    "    Returns:\n",
    "        wMat - 回归系数矩阵\n",
    "    \"\"\"\n",
    "    m = len(yArr)\n",
    "    indexList = list(range(m))\n",
    "    errorMat = np.zeros([numVal, 30]) #每次交叉验证岭回归将产生30组回归系数\n",
    "    # 创建训练集、测试集，并对数据进行混洗\n",
    "    for i in range(numVal):\n",
    "        trainX = []; trainY = []\n",
    "        testX = []; testY = []\n",
    "        random.shuffle(indexList)\n",
    "        # 将数据分配给训练集跟测试集\n",
    "        for j in range(m):\n",
    "            if j < m*0.9:\n",
    "                trainX.append(xArr[indexList[j]])\n",
    "                trainY.append(yArr[indexList[j]])\n",
    "            else:\n",
    "                testX.append(xArr[indexList[j]])\n",
    "                testY.append(yArr[indexList[j]])\n",
    "        wMat = ridgeTest(trainX, trainY)\n",
    "        print(wMat)\n",
    "        # 计算误差\n",
    "        for k in range(30):\n",
    "            matTestX = np.mat(testX); matTrainX = np.mat(trainX)\n",
    "            meanTrain = np.mean(matTrainX, 0)\n",
    "            varTrain = np.var(matTrainX, 0)\n",
    "            matTestX = (matTestX - meanTrain) / varTrain            # 测试集标准化\n",
    "            yEst = matTestX*np.mat(wMat[k,:]).T + np.mean(trainY)   # 根据ws预测y值\n",
    "            errorMat[i, k] = rssError(yEst.T.A, np.array(testY))    # 统计误差\n",
    "            print(errorMat[i, k])\n",
    "    # 找到误差最小的预测系数\n",
    "    meanErrors = np.mean(errorMat, 0)\n",
    "    minMean = float(min(meanErrors))\n",
    "    bestWeights = wMat[np.nonzero(meanErrors == minMean)]\n",
    "    # 将标准化过后的数据还原\n",
    "    xMat = np.mat(xArr); yMat = np.mat(yArr).T\n",
    "    meanX = np.mean(xMat,0); varX = np.var(xMat,0)\n",
    "    unReg = bestWeights / varX\n",
    "    print('%f%+f*年份%+f*部件数量%+f*是否为全新%+f*原价' % ((-1 * np.sum(np.multiply(meanX,unReg)) + np.mean(yMat)), unReg[0,0], unReg[0,1], unReg[0,2], unReg[0,3]))  "
   ]
  },
  {
   "cell_type": "code",
   "execution_count": 329,
   "metadata": {},
   "outputs": [],
   "source": [
    "lgX = []; lgY = []\n",
    "# setDataCollect(lgX, lgY)\n",
    "# crossValidation(lgX, lgY)"
   ]
  }
 ],
 "metadata": {
  "kernelspec": {
   "display_name": "Python 3",
   "language": "python",
   "name": "python3"
  },
  "language_info": {
   "codemirror_mode": {
    "name": "ipython",
    "version": 3
   },
   "file_extension": ".py",
   "mimetype": "text/x-python",
   "name": "python",
   "nbconvert_exporter": "python",
   "pygments_lexer": "ipython3",
   "version": "3.7.4"
  },
  "toc": {
   "base_numbering": 1,
   "nav_menu": {
    "height": "49px",
    "width": "160px"
   },
   "number_sections": true,
   "sideBar": true,
   "skip_h1_title": false,
   "title_cell": "Table of Contents",
   "title_sidebar": "Contents",
   "toc_cell": false,
   "toc_position": {},
   "toc_section_display": true,
   "toc_window_display": true
  }
 },
 "nbformat": 4,
 "nbformat_minor": 2
}
